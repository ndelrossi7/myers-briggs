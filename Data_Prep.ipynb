{
 "cells": [
  {
   "cell_type": "code",
   "execution_count": 15,
   "metadata": {},
   "outputs": [],
   "source": [
    "# Importing necessary packages\n",
    "\n",
    "import pandas as pd\n",
    "from IPython.display import display\n",
    "\n",
    "import numpy as np\n",
    "\n",
    "from spacy.lang.en import English\n",
    "nlp = English()\n",
    "\n",
    "from spacy.lang.en.stop_words import STOP_WORDS"
   ]
  },
  {
   "cell_type": "code",
   "execution_count": 2,
   "metadata": {},
   "outputs": [],
   "source": [
    "# Reading in data\n",
    "mbti_df = pd.read_csv('mbti_1.csv')"
   ]
  },
  {
   "cell_type": "code",
   "execution_count": 3,
   "metadata": {},
   "outputs": [],
   "source": [
    "# converting each observation into a list of posts\n",
    "mbti_df['posts'] = mbti_df['posts'].map(lambda x: list(x.split('|||')))"
   ]
  },
  {
   "cell_type": "code",
   "execution_count": 4,
   "metadata": {
    "scrolled": true
   },
   "outputs": [
    {
     "data": {
      "text/html": [
       "<div>\n",
       "<style scoped>\n",
       "    .dataframe tbody tr th:only-of-type {\n",
       "        vertical-align: middle;\n",
       "    }\n",
       "\n",
       "    .dataframe tbody tr th {\n",
       "        vertical-align: top;\n",
       "    }\n",
       "\n",
       "    .dataframe thead th {\n",
       "        text-align: right;\n",
       "    }\n",
       "</style>\n",
       "<table border=\"1\" class=\"dataframe\">\n",
       "  <thead>\n",
       "    <tr style=\"text-align: right;\">\n",
       "      <th></th>\n",
       "      <th>type</th>\n",
       "      <th>posts</th>\n",
       "    </tr>\n",
       "  </thead>\n",
       "  <tbody>\n",
       "    <tr>\n",
       "      <th>0</th>\n",
       "      <td>INFJ</td>\n",
       "      <td>['http://www.youtube.com/watch?v=qsXHcwe3krw, ...</td>\n",
       "    </tr>\n",
       "    <tr>\n",
       "      <th>1</th>\n",
       "      <td>ENTP</td>\n",
       "      <td>['I'm finding the lack of me in these posts ve...</td>\n",
       "    </tr>\n",
       "    <tr>\n",
       "      <th>2</th>\n",
       "      <td>INTP</td>\n",
       "      <td>['Good one  _____   https://www.youtube.com/wa...</td>\n",
       "    </tr>\n",
       "    <tr>\n",
       "      <th>3</th>\n",
       "      <td>INTJ</td>\n",
       "      <td>['Dear INTP,   I enjoyed our conversation the ...</td>\n",
       "    </tr>\n",
       "    <tr>\n",
       "      <th>4</th>\n",
       "      <td>ENTJ</td>\n",
       "      <td>['You're fired., That's another silly misconce...</td>\n",
       "    </tr>\n",
       "  </tbody>\n",
       "</table>\n",
       "</div>"
      ],
      "text/plain": [
       "   type                                              posts\n",
       "0  INFJ  ['http://www.youtube.com/watch?v=qsXHcwe3krw, ...\n",
       "1  ENTP  ['I'm finding the lack of me in these posts ve...\n",
       "2  INTP  ['Good one  _____   https://www.youtube.com/wa...\n",
       "3  INTJ  ['Dear INTP,   I enjoyed our conversation the ...\n",
       "4  ENTJ  ['You're fired., That's another silly misconce..."
      ]
     },
     "execution_count": 4,
     "metadata": {},
     "output_type": "execute_result"
    }
   ],
   "source": [
    "# Inspecting data\n",
    "mbti_df.head()"
   ]
  },
  {
   "cell_type": "code",
   "execution_count": 5,
   "metadata": {},
   "outputs": [],
   "source": [
    "# Not all the users had the same number of posts, but the majority had 50 so we will select those that had 50 posts. \n",
    "# Consider treating each post as an observation as opposed to each individual - drastically increase sample size. \n",
    "mbti_df['num_posts'] = mbti_df['posts'].map(lambda x: len(x))\n",
    "mbti_df = mbti_df[mbti_df['num_posts'] == 50].reset_index(drop=True)"
   ]
  },
  {
   "cell_type": "code",
   "execution_count": 6,
   "metadata": {},
   "outputs": [],
   "source": [
    "# Setting up new column names to assign to each post\n",
    "post = 'Post {}'\n",
    "nums = range(1, 51)\n",
    "posts = []\n",
    "for num in nums: \n",
    "    posts.append(post.format(str(num)))"
   ]
  },
  {
   "cell_type": "code",
   "execution_count": 7,
   "metadata": {},
   "outputs": [],
   "source": [
    "# New dataframe with each post in its own column\n",
    "df_update = pd.DataFrame(mbti_df['posts'].to_list(), columns=posts)\n",
    "df_update['type'] = mbti_df['type']"
   ]
  },
  {
   "cell_type": "code",
   "execution_count": 8,
   "metadata": {
    "scrolled": true
   },
   "outputs": [
    {
     "data": {
      "text/html": [
       "<div>\n",
       "<style scoped>\n",
       "    .dataframe tbody tr th:only-of-type {\n",
       "        vertical-align: middle;\n",
       "    }\n",
       "\n",
       "    .dataframe tbody tr th {\n",
       "        vertical-align: top;\n",
       "    }\n",
       "\n",
       "    .dataframe thead th {\n",
       "        text-align: right;\n",
       "    }\n",
       "</style>\n",
       "<table border=\"1\" class=\"dataframe\">\n",
       "  <thead>\n",
       "    <tr style=\"text-align: right;\">\n",
       "      <th></th>\n",
       "      <th>Post 1</th>\n",
       "      <th>Post 2</th>\n",
       "      <th>Post 3</th>\n",
       "      <th>Post 4</th>\n",
       "      <th>Post 5</th>\n",
       "      <th>Post 6</th>\n",
       "      <th>Post 7</th>\n",
       "      <th>Post 8</th>\n",
       "      <th>Post 9</th>\n",
       "      <th>Post 10</th>\n",
       "      <th>...</th>\n",
       "      <th>Post 42</th>\n",
       "      <th>Post 43</th>\n",
       "      <th>Post 44</th>\n",
       "      <th>Post 45</th>\n",
       "      <th>Post 46</th>\n",
       "      <th>Post 47</th>\n",
       "      <th>Post 48</th>\n",
       "      <th>Post 49</th>\n",
       "      <th>Post 50</th>\n",
       "      <th>type</th>\n",
       "    </tr>\n",
       "  </thead>\n",
       "  <tbody>\n",
       "    <tr>\n",
       "      <th>0</th>\n",
       "      <td>'http://www.youtube.com/watch?v=qsXHcwe3krw</td>\n",
       "      <td>http://41.media.tumblr.com/tumblr_lfouy03PMA1q...</td>\n",
       "      <td>enfp and intj moments  https://www.youtube.com...</td>\n",
       "      <td>What has been the most life-changing experienc...</td>\n",
       "      <td>http://www.youtube.com/watch?v=vXZeYwwRDw8   h...</td>\n",
       "      <td>May the PerC Experience immerse you.</td>\n",
       "      <td>The last thing my INFJ friend posted on his fa...</td>\n",
       "      <td>Hello ENFJ7. Sorry to hear of your distress. I...</td>\n",
       "      <td>84389  84390  http://wallpaperpassion.com/uplo...</td>\n",
       "      <td>Welcome and stuff.</td>\n",
       "      <td>...</td>\n",
       "      <td>Not all artists are artists because they draw....</td>\n",
       "      <td>Welcome to the robot ranks, person who downed ...</td>\n",
       "      <td>Banned for taking all the room under my bed. Y...</td>\n",
       "      <td>http://www.youtube.com/watch?v=w8IgImn57aQ</td>\n",
       "      <td>Banned for being too much of a thundering, gru...</td>\n",
       "      <td>Ahh... old high school music I haven't heard i...</td>\n",
       "      <td>I failed a public speaking class a few years a...</td>\n",
       "      <td>I like this person's mentality. He's a confirm...</td>\n",
       "      <td>Move to the Denver area and start a new life f...</td>\n",
       "      <td>INFJ</td>\n",
       "    </tr>\n",
       "  </tbody>\n",
       "</table>\n",
       "<p>1 rows × 51 columns</p>\n",
       "</div>"
      ],
      "text/plain": [
       "                                        Post 1  \\\n",
       "0  'http://www.youtube.com/watch?v=qsXHcwe3krw   \n",
       "\n",
       "                                              Post 2  \\\n",
       "0  http://41.media.tumblr.com/tumblr_lfouy03PMA1q...   \n",
       "\n",
       "                                              Post 3  \\\n",
       "0  enfp and intj moments  https://www.youtube.com...   \n",
       "\n",
       "                                              Post 4  \\\n",
       "0  What has been the most life-changing experienc...   \n",
       "\n",
       "                                              Post 5  \\\n",
       "0  http://www.youtube.com/watch?v=vXZeYwwRDw8   h...   \n",
       "\n",
       "                                 Post 6  \\\n",
       "0  May the PerC Experience immerse you.   \n",
       "\n",
       "                                              Post 7  \\\n",
       "0  The last thing my INFJ friend posted on his fa...   \n",
       "\n",
       "                                              Post 8  \\\n",
       "0  Hello ENFJ7. Sorry to hear of your distress. I...   \n",
       "\n",
       "                                              Post 9             Post 10  ...  \\\n",
       "0  84389  84390  http://wallpaperpassion.com/uplo...  Welcome and stuff.  ...   \n",
       "\n",
       "                                             Post 42  \\\n",
       "0  Not all artists are artists because they draw....   \n",
       "\n",
       "                                             Post 43  \\\n",
       "0  Welcome to the robot ranks, person who downed ...   \n",
       "\n",
       "                                             Post 44  \\\n",
       "0  Banned for taking all the room under my bed. Y...   \n",
       "\n",
       "                                      Post 45  \\\n",
       "0  http://www.youtube.com/watch?v=w8IgImn57aQ   \n",
       "\n",
       "                                             Post 46  \\\n",
       "0  Banned for being too much of a thundering, gru...   \n",
       "\n",
       "                                             Post 47  \\\n",
       "0  Ahh... old high school music I haven't heard i...   \n",
       "\n",
       "                                             Post 48  \\\n",
       "0  I failed a public speaking class a few years a...   \n",
       "\n",
       "                                             Post 49  \\\n",
       "0  I like this person's mentality. He's a confirm...   \n",
       "\n",
       "                                             Post 50  type  \n",
       "0  Move to the Denver area and start a new life f...  INFJ  \n",
       "\n",
       "[1 rows x 51 columns]"
      ]
     },
     "execution_count": 8,
     "metadata": {},
     "output_type": "execute_result"
    }
   ],
   "source": [
    "df_update.head(1)"
   ]
  },
  {
   "cell_type": "code",
   "execution_count": 9,
   "metadata": {},
   "outputs": [
    {
     "data": {
      "text/html": [
       "<div>\n",
       "<style scoped>\n",
       "    .dataframe tbody tr th:only-of-type {\n",
       "        vertical-align: middle;\n",
       "    }\n",
       "\n",
       "    .dataframe tbody tr th {\n",
       "        vertical-align: top;\n",
       "    }\n",
       "\n",
       "    .dataframe thead th {\n",
       "        text-align: right;\n",
       "    }\n",
       "</style>\n",
       "<table border=\"1\" class=\"dataframe\">\n",
       "  <thead>\n",
       "    <tr style=\"text-align: right;\">\n",
       "      <th></th>\n",
       "      <th>type</th>\n",
       "      <th>post</th>\n",
       "    </tr>\n",
       "  </thead>\n",
       "  <tbody>\n",
       "    <tr>\n",
       "      <th>0</th>\n",
       "      <td>INFJ</td>\n",
       "      <td>'http://www.youtube.com/watch?v=qsXHcwe3krw</td>\n",
       "    </tr>\n",
       "    <tr>\n",
       "      <th>1</th>\n",
       "      <td>INFJ</td>\n",
       "      <td>http://41.media.tumblr.com/tumblr_lfouy03PMA1q...</td>\n",
       "    </tr>\n",
       "    <tr>\n",
       "      <th>2</th>\n",
       "      <td>INFJ</td>\n",
       "      <td>enfp and intj moments  https://www.youtube.com...</td>\n",
       "    </tr>\n",
       "    <tr>\n",
       "      <th>3</th>\n",
       "      <td>INFJ</td>\n",
       "      <td>What has been the most life-changing experienc...</td>\n",
       "    </tr>\n",
       "    <tr>\n",
       "      <th>4</th>\n",
       "      <td>INFJ</td>\n",
       "      <td>http://www.youtube.com/watch?v=vXZeYwwRDw8   h...</td>\n",
       "    </tr>\n",
       "  </tbody>\n",
       "</table>\n",
       "</div>"
      ],
      "text/plain": [
       "   type                                               post\n",
       "0  INFJ        'http://www.youtube.com/watch?v=qsXHcwe3krw\n",
       "1  INFJ  http://41.media.tumblr.com/tumblr_lfouy03PMA1q...\n",
       "2  INFJ  enfp and intj moments  https://www.youtube.com...\n",
       "3  INFJ  What has been the most life-changing experienc...\n",
       "4  INFJ  http://www.youtube.com/watch?v=vXZeYwwRDw8   h..."
      ]
     },
     "execution_count": 9,
     "metadata": {},
     "output_type": "execute_result"
    }
   ],
   "source": [
    "# treating each post as its own observation\n",
    "split_df = pd.DataFrame({'type':np.repeat(mbti_df['type'].values, mbti_df['posts'].str.len()), 'post':np.concatenate(mbti_df['posts'].values)})\n",
    "split_df.head()"
   ]
  },
  {
   "cell_type": "code",
   "execution_count": 16,
   "metadata": {
    "scrolled": true
   },
   "outputs": [
    {
     "data": {
      "text/html": [
       "<div>\n",
       "<style scoped>\n",
       "    .dataframe tbody tr th:only-of-type {\n",
       "        vertical-align: middle;\n",
       "    }\n",
       "\n",
       "    .dataframe tbody tr th {\n",
       "        vertical-align: top;\n",
       "    }\n",
       "\n",
       "    .dataframe thead th {\n",
       "        text-align: right;\n",
       "    }\n",
       "</style>\n",
       "<table border=\"1\" class=\"dataframe\">\n",
       "  <thead>\n",
       "    <tr style=\"text-align: right;\">\n",
       "      <th></th>\n",
       "      <th>INFP</th>\n",
       "      <th>INFJ</th>\n",
       "      <th>INTP</th>\n",
       "      <th>INTJ</th>\n",
       "      <th>ENTP</th>\n",
       "      <th>ENFP</th>\n",
       "      <th>ISTP</th>\n",
       "      <th>ISFP</th>\n",
       "      <th>ENTJ</th>\n",
       "      <th>ISTJ</th>\n",
       "      <th>ENFJ</th>\n",
       "      <th>ISFJ</th>\n",
       "      <th>ESTP</th>\n",
       "      <th>ESFP</th>\n",
       "      <th>ESFJ</th>\n",
       "      <th>ESTJ</th>\n",
       "    </tr>\n",
       "  </thead>\n",
       "  <tbody>\n",
       "    <tr>\n",
       "      <th>type</th>\n",
       "      <td>81800</td>\n",
       "      <td>65250</td>\n",
       "      <td>57450</td>\n",
       "      <td>46700</td>\n",
       "      <td>29600</td>\n",
       "      <td>28600</td>\n",
       "      <td>15100</td>\n",
       "      <td>11300</td>\n",
       "      <td>10300</td>\n",
       "      <td>8350</td>\n",
       "      <td>8300</td>\n",
       "      <td>7250</td>\n",
       "      <td>4000</td>\n",
       "      <td>1800</td>\n",
       "      <td>1800</td>\n",
       "      <td>1750</td>\n",
       "    </tr>\n",
       "  </tbody>\n",
       "</table>\n",
       "</div>"
      ],
      "text/plain": [
       "       INFP   INFJ   INTP   INTJ   ENTP   ENFP   ISTP   ISFP   ENTJ  ISTJ  \\\n",
       "type  81800  65250  57450  46700  29600  28600  15100  11300  10300  8350   \n",
       "\n",
       "      ENFJ  ISFJ  ESTP  ESFP  ESFJ  ESTJ  \n",
       "type  8300  7250  4000  1800  1800  1750  "
      ]
     },
     "metadata": {},
     "output_type": "display_data"
    },
    {
     "name": "stdout",
     "output_type": "stream",
     "text": [
      "Total number of observations: 379350\n"
     ]
    }
   ],
   "source": [
    "# Inspect our classes\n",
    "display(pd.DataFrame(split_df['type'].value_counts()).T)\n",
    "print(\"Total number of observations: {}\".format(str(len(split_df))))"
   ]
  },
  {
   "cell_type": "code",
   "execution_count": 17,
   "metadata": {},
   "outputs": [],
   "source": [
    "# Classify each post into either \"introverted\" or \"extroverted\"\n",
    "\n",
    "split_df['vert'] = split_df['type'].apply(lambda x: 'introvert' if x[0] == 'I' else 'extrovert')"
   ]
  },
  {
   "cell_type": "code",
   "execution_count": 21,
   "metadata": {},
   "outputs": [
    {
     "data": {
      "text/html": [
       "<div>\n",
       "<style scoped>\n",
       "    .dataframe tbody tr th:only-of-type {\n",
       "        vertical-align: middle;\n",
       "    }\n",
       "\n",
       "    .dataframe tbody tr th {\n",
       "        vertical-align: top;\n",
       "    }\n",
       "\n",
       "    .dataframe thead th {\n",
       "        text-align: right;\n",
       "    }\n",
       "</style>\n",
       "<table border=\"1\" class=\"dataframe\">\n",
       "  <thead>\n",
       "    <tr style=\"text-align: right;\">\n",
       "      <th></th>\n",
       "      <th>vert</th>\n",
       "    </tr>\n",
       "  </thead>\n",
       "  <tbody>\n",
       "    <tr>\n",
       "      <th>introvert</th>\n",
       "      <td>293200</td>\n",
       "    </tr>\n",
       "    <tr>\n",
       "      <th>extrovert</th>\n",
       "      <td>86150</td>\n",
       "    </tr>\n",
       "  </tbody>\n",
       "</table>\n",
       "</div>"
      ],
      "text/plain": [
       "             vert\n",
       "introvert  293200\n",
       "extrovert   86150"
      ]
     },
     "execution_count": 21,
     "metadata": {},
     "output_type": "execute_result"
    }
   ],
   "source": [
    "# Very interesting class imbalance - I would expect extroverts to be more active on a forum but perhaps introverts spend more time on social media? Look into this later\n",
    "\n",
    "pd.DataFrame(split_df['vert'].value_counts())"
   ]
  },
  {
   "cell_type": "code",
   "execution_count": 11,
   "metadata": {},
   "outputs": [],
   "source": [
    "# Set up preliminary nlp cleaning\n",
    "def token_rem_stop(doc):\n",
    "#   Tokenize each doc\n",
    "    tokens = []\n",
    "    for token in doc: \n",
    "        tokens.append(token.text)\n",
    "#   Remove stop words from tokens        \n",
    "    rem_stop = []\n",
    "    for token in tokens: \n",
    "        lex = nlp.vocab[token]\n",
    "        if lex.is_stop == False:\n",
    "            rem_stop.append(token)\n",
    "        \n",
    "    return rem_stop\n"
   ]
  },
  {
   "cell_type": "code",
   "execution_count": 13,
   "metadata": {},
   "outputs": [
    {
     "data": {
      "text/plain": [
       "['life', '-', 'changing', 'experience', 'life', '?']"
      ]
     },
     "execution_count": 13,
     "metadata": {},
     "output_type": "execute_result"
    }
   ],
   "source": [
    "# Test out the above function\n",
    "token_rem_stop(nlp(df_update['Post 4'][0]))"
   ]
  }
 ],
 "metadata": {
  "kernelspec": {
   "display_name": "Python 3",
   "language": "python",
   "name": "python3"
  },
  "language_info": {
   "codemirror_mode": {
    "name": "ipython",
    "version": 3
   },
   "file_extension": ".py",
   "mimetype": "text/x-python",
   "name": "python",
   "nbconvert_exporter": "python",
   "pygments_lexer": "ipython3",
   "version": "3.7.3"
  }
 },
 "nbformat": 4,
 "nbformat_minor": 2
}
