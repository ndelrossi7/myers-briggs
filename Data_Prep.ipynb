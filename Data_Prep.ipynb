{
 "cells": [
  {
   "cell_type": "code",
   "execution_count": 1,
   "metadata": {},
   "outputs": [],
   "source": [
    "# Importing necessary packages\n",
    "\n",
    "import pandas as pd\n",
    "\n",
    "import numpy as np\n",
    "\n",
    "from spacy.lang.en import English\n",
    "nlp = English()\n",
    "\n",
    "from spacy.lang.en.stop_words import STOP_WORDS"
   ]
  },
  {
   "cell_type": "code",
   "execution_count": 2,
   "metadata": {},
   "outputs": [],
   "source": [
    "# Reading in data\n",
    "mbti_df = pd.read_csv('mbti_1.csv')"
   ]
  },
  {
   "cell_type": "code",
   "execution_count": 3,
   "metadata": {},
   "outputs": [],
   "source": [
    "# converting each observation into a list of posts\n",
    "mbti_df['posts'] = mbti_df['posts'].map(lambda x: list(x.split('|||')))"
   ]
  },
  {
   "cell_type": "code",
   "execution_count": 4,
   "metadata": {
    "scrolled": true
   },
   "outputs": [
    {
     "data": {
      "text/html": [
       "<div>\n",
       "<style scoped>\n",
       "    .dataframe tbody tr th:only-of-type {\n",
       "        vertical-align: middle;\n",
       "    }\n",
       "\n",
       "    .dataframe tbody tr th {\n",
       "        vertical-align: top;\n",
       "    }\n",
       "\n",
       "    .dataframe thead th {\n",
       "        text-align: right;\n",
       "    }\n",
       "</style>\n",
       "<table border=\"1\" class=\"dataframe\">\n",
       "  <thead>\n",
       "    <tr style=\"text-align: right;\">\n",
       "      <th></th>\n",
       "      <th>type</th>\n",
       "      <th>posts</th>\n",
       "    </tr>\n",
       "  </thead>\n",
       "  <tbody>\n",
       "    <tr>\n",
       "      <th>0</th>\n",
       "      <td>INFJ</td>\n",
       "      <td>['http://www.youtube.com/watch?v=qsXHcwe3krw, ...</td>\n",
       "    </tr>\n",
       "    <tr>\n",
       "      <th>1</th>\n",
       "      <td>ENTP</td>\n",
       "      <td>['I'm finding the lack of me in these posts ve...</td>\n",
       "    </tr>\n",
       "    <tr>\n",
       "      <th>2</th>\n",
       "      <td>INTP</td>\n",
       "      <td>['Good one  _____   https://www.youtube.com/wa...</td>\n",
       "    </tr>\n",
       "    <tr>\n",
       "      <th>3</th>\n",
       "      <td>INTJ</td>\n",
       "      <td>['Dear INTP,   I enjoyed our conversation the ...</td>\n",
       "    </tr>\n",
       "    <tr>\n",
       "      <th>4</th>\n",
       "      <td>ENTJ</td>\n",
       "      <td>['You're fired., That's another silly misconce...</td>\n",
       "    </tr>\n",
       "  </tbody>\n",
       "</table>\n",
       "</div>"
      ],
      "text/plain": [
       "   type                                              posts\n",
       "0  INFJ  ['http://www.youtube.com/watch?v=qsXHcwe3krw, ...\n",
       "1  ENTP  ['I'm finding the lack of me in these posts ve...\n",
       "2  INTP  ['Good one  _____   https://www.youtube.com/wa...\n",
       "3  INTJ  ['Dear INTP,   I enjoyed our conversation the ...\n",
       "4  ENTJ  ['You're fired., That's another silly misconce..."
      ]
     },
     "execution_count": 4,
     "metadata": {},
     "output_type": "execute_result"
    }
   ],
   "source": [
    "# Inspecting data\n",
    "mbti_df.head()"
   ]
  },
  {
   "cell_type": "code",
   "execution_count": 5,
   "metadata": {},
   "outputs": [],
   "source": [
    "# Not all the users had the same number of posts, but the majority had 50 so we will select those that had 50 posts. \n",
    "# Consider treating each post as an observation as opposed to each individual - drastically increase sample size. \n",
    "mbti_df['num_posts'] = mbti_df['posts'].map(lambda x: len(x))\n",
    "mbti_df = mbti_df[mbti_df['num_posts'] == 50].reset_index(drop=True)"
   ]
  },
  {
   "cell_type": "code",
   "execution_count": 6,
   "metadata": {},
   "outputs": [],
   "source": [
    "# treating each post as its own observation\n",
    "split_df = pd.DataFrame({'type':np.repeat(mbti_df['type'].values, mbti_df['posts'].str.len()), 'post':np.concatenate(mbti_df['posts'].values)})"
   ]
  },
  {
   "cell_type": "code",
   "execution_count": 7,
   "metadata": {},
   "outputs": [
    {
     "data": {
      "text/plain": [
       "379350"
      ]
     },
     "execution_count": 7,
     "metadata": {},
     "output_type": "execute_result"
    }
   ],
   "source": [
    "len(split_df)"
   ]
  },
  {
   "cell_type": "code",
   "execution_count": 27,
   "metadata": {},
   "outputs": [
    {
     "data": {
      "text/html": [
       "<div>\n",
       "<style scoped>\n",
       "    .dataframe tbody tr th:only-of-type {\n",
       "        vertical-align: middle;\n",
       "    }\n",
       "\n",
       "    .dataframe tbody tr th {\n",
       "        vertical-align: top;\n",
       "    }\n",
       "\n",
       "    .dataframe thead th {\n",
       "        text-align: right;\n",
       "    }\n",
       "</style>\n",
       "<table border=\"1\" class=\"dataframe\">\n",
       "  <thead>\n",
       "    <tr style=\"text-align: right;\">\n",
       "      <th></th>\n",
       "      <th>type</th>\n",
       "    </tr>\n",
       "  </thead>\n",
       "  <tbody>\n",
       "    <tr>\n",
       "      <th>INFP</th>\n",
       "      <td>89796</td>\n",
       "    </tr>\n",
       "    <tr>\n",
       "      <th>INFJ</th>\n",
       "      <td>72105</td>\n",
       "    </tr>\n",
       "    <tr>\n",
       "      <th>INTP</th>\n",
       "      <td>63359</td>\n",
       "    </tr>\n",
       "    <tr>\n",
       "      <th>INTJ</th>\n",
       "      <td>52471</td>\n",
       "    </tr>\n",
       "    <tr>\n",
       "      <th>ENTP</th>\n",
       "      <td>33761</td>\n",
       "    </tr>\n",
       "    <tr>\n",
       "      <th>ENFP</th>\n",
       "      <td>32769</td>\n",
       "    </tr>\n",
       "    <tr>\n",
       "      <th>ISTP</th>\n",
       "      <td>16498</td>\n",
       "    </tr>\n",
       "    <tr>\n",
       "      <th>ISFP</th>\n",
       "      <td>13000</td>\n",
       "    </tr>\n",
       "    <tr>\n",
       "      <th>ENTJ</th>\n",
       "      <td>11273</td>\n",
       "    </tr>\n",
       "    <tr>\n",
       "      <th>ISTJ</th>\n",
       "      <td>9913</td>\n",
       "    </tr>\n",
       "    <tr>\n",
       "      <th>ENFJ</th>\n",
       "      <td>9288</td>\n",
       "    </tr>\n",
       "    <tr>\n",
       "      <th>ISFJ</th>\n",
       "      <td>8121</td>\n",
       "    </tr>\n",
       "    <tr>\n",
       "      <th>ESTP</th>\n",
       "      <td>4337</td>\n",
       "    </tr>\n",
       "    <tr>\n",
       "      <th>ESFP</th>\n",
       "      <td>2215</td>\n",
       "    </tr>\n",
       "    <tr>\n",
       "      <th>ESFJ</th>\n",
       "      <td>2018</td>\n",
       "    </tr>\n",
       "    <tr>\n",
       "      <th>ESTJ</th>\n",
       "      <td>1921</td>\n",
       "    </tr>\n",
       "  </tbody>\n",
       "</table>\n",
       "</div>"
      ],
      "text/plain": [
       "       type\n",
       "INFP  89796\n",
       "INFJ  72105\n",
       "INTP  63359\n",
       "INTJ  52471\n",
       "ENTP  33761\n",
       "ENFP  32769\n",
       "ISTP  16498\n",
       "ISFP  13000\n",
       "ENTJ  11273\n",
       "ISTJ   9913\n",
       "ENFJ   9288\n",
       "ISFJ   8121\n",
       "ESTP   4337\n",
       "ESFP   2215\n",
       "ESFJ   2018\n",
       "ESTJ   1921"
      ]
     },
     "execution_count": 27,
     "metadata": {},
     "output_type": "execute_result"
    }
   ],
   "source": [
    "# Inspect our classes\n",
    "pd.DataFrame(split_df['type'].value_counts())"
   ]
  },
  {
   "cell_type": "code",
   "execution_count": 7,
   "metadata": {},
   "outputs": [],
   "source": [
    "# Setting up new column names to assign to each post\n",
    "post = 'Post {}'\n",
    "nums = range(1, 51)\n",
    "posts = []\n",
    "for num in nums: \n",
    "    posts.append(post.format(str(num)))"
   ]
  },
  {
   "cell_type": "code",
   "execution_count": 8,
   "metadata": {},
   "outputs": [],
   "source": [
    "# New dataframe with each post in its own column\n",
    "df_update = pd.DataFrame(mbti_df['posts'].to_list(), columns=posts)\n",
    "df_update['type'] = mbti_df['type']"
   ]
  },
  {
   "cell_type": "code",
   "execution_count": 9,
   "metadata": {},
   "outputs": [
    {
     "data": {
      "text/html": [
       "<div>\n",
       "<style scoped>\n",
       "    .dataframe tbody tr th:only-of-type {\n",
       "        vertical-align: middle;\n",
       "    }\n",
       "\n",
       "    .dataframe tbody tr th {\n",
       "        vertical-align: top;\n",
       "    }\n",
       "\n",
       "    .dataframe thead th {\n",
       "        text-align: right;\n",
       "    }\n",
       "</style>\n",
       "<table border=\"1\" class=\"dataframe\">\n",
       "  <thead>\n",
       "    <tr style=\"text-align: right;\">\n",
       "      <th></th>\n",
       "      <th>Post 1</th>\n",
       "      <th>Post 2</th>\n",
       "      <th>Post 3</th>\n",
       "      <th>Post 4</th>\n",
       "      <th>Post 5</th>\n",
       "      <th>Post 6</th>\n",
       "      <th>Post 7</th>\n",
       "      <th>Post 8</th>\n",
       "      <th>Post 9</th>\n",
       "      <th>Post 10</th>\n",
       "      <th>...</th>\n",
       "      <th>Post 42</th>\n",
       "      <th>Post 43</th>\n",
       "      <th>Post 44</th>\n",
       "      <th>Post 45</th>\n",
       "      <th>Post 46</th>\n",
       "      <th>Post 47</th>\n",
       "      <th>Post 48</th>\n",
       "      <th>Post 49</th>\n",
       "      <th>Post 50</th>\n",
       "      <th>type</th>\n",
       "    </tr>\n",
       "  </thead>\n",
       "  <tbody>\n",
       "    <tr>\n",
       "      <th>0</th>\n",
       "      <td>'http://www.youtube.com/watch?v=qsXHcwe3krw</td>\n",
       "      <td>http://41.media.tumblr.com/tumblr_lfouy03PMA1q...</td>\n",
       "      <td>enfp and intj moments  https://www.youtube.com...</td>\n",
       "      <td>What has been the most life-changing experienc...</td>\n",
       "      <td>http://www.youtube.com/watch?v=vXZeYwwRDw8   h...</td>\n",
       "      <td>May the PerC Experience immerse you.</td>\n",
       "      <td>The last thing my INFJ friend posted on his fa...</td>\n",
       "      <td>Hello ENFJ7. Sorry to hear of your distress. I...</td>\n",
       "      <td>84389  84390  http://wallpaperpassion.com/uplo...</td>\n",
       "      <td>Welcome and stuff.</td>\n",
       "      <td>...</td>\n",
       "      <td>Not all artists are artists because they draw....</td>\n",
       "      <td>Welcome to the robot ranks, person who downed ...</td>\n",
       "      <td>Banned for taking all the room under my bed. Y...</td>\n",
       "      <td>http://www.youtube.com/watch?v=w8IgImn57aQ</td>\n",
       "      <td>Banned for being too much of a thundering, gru...</td>\n",
       "      <td>Ahh... old high school music I haven't heard i...</td>\n",
       "      <td>I failed a public speaking class a few years a...</td>\n",
       "      <td>I like this person's mentality. He's a confirm...</td>\n",
       "      <td>Move to the Denver area and start a new life f...</td>\n",
       "      <td>INFJ</td>\n",
       "    </tr>\n",
       "  </tbody>\n",
       "</table>\n",
       "<p>1 rows × 51 columns</p>\n",
       "</div>"
      ],
      "text/plain": [
       "                                        Post 1  \\\n",
       "0  'http://www.youtube.com/watch?v=qsXHcwe3krw   \n",
       "\n",
       "                                              Post 2  \\\n",
       "0  http://41.media.tumblr.com/tumblr_lfouy03PMA1q...   \n",
       "\n",
       "                                              Post 3  \\\n",
       "0  enfp and intj moments  https://www.youtube.com...   \n",
       "\n",
       "                                              Post 4  \\\n",
       "0  What has been the most life-changing experienc...   \n",
       "\n",
       "                                              Post 5  \\\n",
       "0  http://www.youtube.com/watch?v=vXZeYwwRDw8   h...   \n",
       "\n",
       "                                 Post 6  \\\n",
       "0  May the PerC Experience immerse you.   \n",
       "\n",
       "                                              Post 7  \\\n",
       "0  The last thing my INFJ friend posted on his fa...   \n",
       "\n",
       "                                              Post 8  \\\n",
       "0  Hello ENFJ7. Sorry to hear of your distress. I...   \n",
       "\n",
       "                                              Post 9             Post 10  ...  \\\n",
       "0  84389  84390  http://wallpaperpassion.com/uplo...  Welcome and stuff.  ...   \n",
       "\n",
       "                                             Post 42  \\\n",
       "0  Not all artists are artists because they draw....   \n",
       "\n",
       "                                             Post 43  \\\n",
       "0  Welcome to the robot ranks, person who downed ...   \n",
       "\n",
       "                                             Post 44  \\\n",
       "0  Banned for taking all the room under my bed. Y...   \n",
       "\n",
       "                                      Post 45  \\\n",
       "0  http://www.youtube.com/watch?v=w8IgImn57aQ   \n",
       "\n",
       "                                             Post 46  \\\n",
       "0  Banned for being too much of a thundering, gru...   \n",
       "\n",
       "                                             Post 47  \\\n",
       "0  Ahh... old high school music I haven't heard i...   \n",
       "\n",
       "                                             Post 48  \\\n",
       "0  I failed a public speaking class a few years a...   \n",
       "\n",
       "                                             Post 49  \\\n",
       "0  I like this person's mentality. He's a confirm...   \n",
       "\n",
       "                                             Post 50  type  \n",
       "0  Move to the Denver area and start a new life f...  INFJ  \n",
       "\n",
       "[1 rows x 51 columns]"
      ]
     },
     "execution_count": 9,
     "metadata": {},
     "output_type": "execute_result"
    }
   ],
   "source": [
    "df_update.head(1)"
   ]
  },
  {
   "cell_type": "code",
   "execution_count": 10,
   "metadata": {},
   "outputs": [
    {
     "data": {
      "text/plain": [
       "'What has been the most life-changing experience in your life?'"
      ]
     },
     "execution_count": 10,
     "metadata": {},
     "output_type": "execute_result"
    }
   ],
   "source": [
    "df_update['Post 4'][0]"
   ]
  },
  {
   "cell_type": "code",
   "execution_count": 11,
   "metadata": {},
   "outputs": [],
   "source": [
    "def token_rem_stop(doc):\n",
    "#   Tokenize each doc\n",
    "    tokens = []\n",
    "    for token in doc: \n",
    "        tokens.append(token.text)\n",
    "#   Remove stop words from tokens        \n",
    "    rem_stop = []\n",
    "    for token in tokens: \n",
    "        lex = nlp.vocab[token]\n",
    "        if lex.is_stop == False:\n",
    "            rem_stop.append(token)\n",
    "        \n",
    "    return rem_stop\n"
   ]
  },
  {
   "cell_type": "code",
   "execution_count": 13,
   "metadata": {},
   "outputs": [
    {
     "data": {
      "text/plain": [
       "['life', '-', 'changing', 'experience', 'life', '?']"
      ]
     },
     "execution_count": 13,
     "metadata": {},
     "output_type": "execute_result"
    }
   ],
   "source": [
    "# Test out the above function\n",
    "token_rem_stop(nlp(df_update['Post 4'][0]))"
   ]
  }
 ],
 "metadata": {
  "kernelspec": {
   "display_name": "Python 3",
   "language": "python",
   "name": "python3"
  },
  "language_info": {
   "codemirror_mode": {
    "name": "ipython",
    "version": 3
   },
   "file_extension": ".py",
   "mimetype": "text/x-python",
   "name": "python",
   "nbconvert_exporter": "python",
   "pygments_lexer": "ipython3",
   "version": "3.7.3"
  }
 },
 "nbformat": 4,
 "nbformat_minor": 2
}
